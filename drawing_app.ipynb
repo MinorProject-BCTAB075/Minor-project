{
 "cells": [
  {
   "cell_type": "code",
   "execution_count": 21,
   "id": "6201e32f",
   "metadata": {},
   "outputs": [
    {
     "ename": "ModuleNotFoundError",
     "evalue": "No module named 'tkMessageBox'",
     "output_type": "error",
     "traceback": [
      "\u001b[1;31m---------------------------------------------------------------------------\u001b[0m",
      "\u001b[1;31mModuleNotFoundError\u001b[0m                       Traceback (most recent call last)",
      "Input \u001b[1;32mIn [21]\u001b[0m, in \u001b[0;36m<module>\u001b[1;34m\u001b[0m\n\u001b[0;32m      1\u001b[0m \u001b[38;5;28;01mfrom\u001b[39;00m \u001b[38;5;21;01mtkinter\u001b[39;00m \u001b[38;5;28;01mimport\u001b[39;00m \u001b[38;5;241m*\u001b[39m\n\u001b[0;32m      2\u001b[0m \u001b[38;5;28;01mimport\u001b[39;00m \u001b[38;5;21;01mtkinter\u001b[39;00m\n\u001b[1;32m----> 3\u001b[0m \u001b[38;5;28;01mimport\u001b[39;00m \u001b[38;5;21;01mtkMessageBox\u001b[39;00m\n",
      "\u001b[1;31mModuleNotFoundError\u001b[0m: No module named 'tkMessageBox'"
     ]
    }
   ],
   "source": [
    "from tkinter import *\n",
    "#import tkinter\n",
    "import tkMessageBox"
   ]
  },
  {
   "cell_type": "code",
   "execution_count": 26,
   "id": "10e70e45",
   "metadata": {},
   "outputs": [
    {
     "name": "stderr",
     "output_type": "stream",
     "text": [
      "Exception in Tkinter callback\n",
      "Traceback (most recent call last):\n",
      "  File \"C:\\Users\\GURAGAIN\\.conda\\envs\\keras_env\\lib\\tkinter\\__init__.py\", line 1892, in __call__\n",
      "    return self.func(*args)\n",
      "  File \"C:\\Users\\GURAGAIN\\AppData\\Local\\Temp\\ipykernel_1404\\3337031600.py\", line 43, in predict\n",
      "    tkMessageBox.showinfo( \"Hello Python\", \"Hello World\")\n",
      "NameError: name 'tkMessageBox' is not defined\n",
      "Exception in Tkinter callback\n",
      "Traceback (most recent call last):\n",
      "  File \"C:\\Users\\GURAGAIN\\.conda\\envs\\keras_env\\lib\\tkinter\\__init__.py\", line 1892, in __call__\n",
      "    return self.func(*args)\n",
      "  File \"C:\\Users\\GURAGAIN\\AppData\\Local\\Temp\\ipykernel_1404\\3337031600.py\", line 43, in predict\n",
      "    tkMessageBox.showinfo( \"Hello Python\", \"Hello World\")\n",
      "NameError: name 'tkMessageBox' is not defined\n",
      "Exception in Tkinter callback\n",
      "Traceback (most recent call last):\n",
      "  File \"C:\\Users\\GURAGAIN\\.conda\\envs\\keras_env\\lib\\tkinter\\__init__.py\", line 1892, in __call__\n",
      "    return self.func(*args)\n",
      "  File \"C:\\Users\\GURAGAIN\\AppData\\Local\\Temp\\ipykernel_1404\\3337031600.py\", line 43, in predict\n",
      "    tkMessageBox.showinfo( \"Hello Python\", \"Hello World\")\n",
      "NameError: name 'tkMessageBox' is not defined\n"
     ]
    }
   ],
   "source": [
    "class paintApp:\n",
    "    \n",
    "    left_bt_up, right_bt_up = None, None\n",
    "    x_pos, y_pos = None, None\n",
    "    x1, y1, x2, y2 = None, None, None, None\n",
    "    \n",
    "    submit_btn = None\n",
    "    root = None\n",
    "    \n",
    "    def __init__(self,root):\n",
    "        self.root = root\n",
    "        \n",
    "        drawing_area = Canvas(root)\n",
    "        \n",
    "        drawing_area.pack()\n",
    "        \n",
    "        drawing_area.bind(\"<Motion>\", self.motion)\n",
    "        drawing_area.bind(\"<ButtonPress-1>\", self.left_bt_down)\n",
    "        drawing_area.bind(\"<ButtonRelease-1>\", self.left_bt_up)\n",
    "        \n",
    "        self.submit_btn = tkinter.Button(self.root, text=\"Predict\", command = self.predict)\n",
    "        self.submit_btn.pack()\n",
    "        \n",
    "    def left_bt_down(self, event=None):\n",
    "        self.left_bt_up = False\n",
    "        self.x1, self.y1 = event.x, event.y\n",
    "    \n",
    "    def left_bt_up(self, event=None):\n",
    "        self.left_bt_up = True\n",
    "        self.x2, self.y2 = event.x, event.y\n",
    "        self.x_pos, self.y_pos = None, None\n",
    "    \n",
    "    def motion(self, event=None):\n",
    "        self.pencil_draw(event)\n",
    "        \n",
    "    def pencil_draw(self, event=None):\n",
    "        if self.left_bt_up == False:\n",
    "            if None not in (self.x_pos, self.y_pos):\n",
    "                event.widget.create_line(self.x_pos, self.y_pos, event.x, event.y, smooth = True)\n",
    "            self.x_pos, self.y_pos = event.x, event.y\n",
    "    \n",
    "    def predict(self, event=None):\n",
    "        tkMessageBox.showinfo( \"Hello Python\", \"Hello World\")\n",
    "    \n",
    "root = Tk()\n",
    "paintApp(root)\n",
    "root.mainloop()"
   ]
  },
  {
   "cell_type": "code",
   "execution_count": null,
   "id": "53cef096",
   "metadata": {},
   "outputs": [],
   "source": []
  }
 ],
 "metadata": {
  "kernelspec": {
   "display_name": "Python 3 (ipykernel)",
   "language": "python",
   "name": "python3"
  },
  "language_info": {
   "codemirror_mode": {
    "name": "ipython",
    "version": 3
   },
   "file_extension": ".py",
   "mimetype": "text/x-python",
   "name": "python",
   "nbconvert_exporter": "python",
   "pygments_lexer": "ipython3",
   "version": "3.9.7"
  }
 },
 "nbformat": 4,
 "nbformat_minor": 5
}
