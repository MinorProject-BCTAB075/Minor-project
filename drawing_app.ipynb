{
 "cells": [
  {
   "cell_type": "code",
   "execution_count": 11,
   "id": "6201e32f",
   "metadata": {},
   "outputs": [],
   "source": [
    "from tkinter import *\n",
    "from tkinter import messagebox"
   ]
  },
  {
   "cell_type": "code",
   "execution_count": 10,
   "id": "10e70e45",
   "metadata": {},
   "outputs": [],
   "source": [
    "class paintApp:\n",
    "    \n",
    "    left_bt_up, right_bt_up = None, None\n",
    "    x_pos, y_pos = None, None\n",
    "    x1, y1, x2, y2 = None, None, None, None\n",
    "    \n",
    "    submit_btn = None\n",
    "    root = None\n",
    "    \n",
    "    def __init__(self,root):\n",
    "        self.root = root\n",
    "        \n",
    "        drawing_area = Canvas(root)\n",
    "        \n",
    "        drawing_area.pack()\n",
    "        \n",
    "        drawing_area.bind(\"<Motion>\", self.motion)\n",
    "        drawing_area.bind(\"<ButtonPress-1>\", self.left_bt_down)\n",
    "        drawing_area.bind(\"<ButtonRelease-1>\", self.left_bt_up)\n",
    "        \n",
    "        self.submit_btn = Button(self.root, text=\"Predict\", command = self.predict)\n",
    "        self.submit_btn.pack()\n",
    "        \n",
    "    def left_bt_down(self, event=None):\n",
    "        self.left_bt_up = False\n",
    "        self.x1, self.y1 = event.x, event.y\n",
    "    \n",
    "    def left_bt_up(self, event=None):\n",
    "        self.left_bt_up = True\n",
    "        self.x2, self.y2 = event.x, event.y\n",
    "        self.x_pos, self.y_pos = None, None\n",
    "    \n",
    "    def motion(self, event=None):\n",
    "        self.pencil_draw(event)\n",
    "        \n",
    "    def pencil_draw(self, event=None):\n",
    "        if self.left_bt_up == False:\n",
    "            if None not in (self.x_pos, self.y_pos):\n",
    "                event.widget.create_line(self.x_pos, self.y_pos, event.x, event.y, smooth = True)\n",
    "            self.x_pos, self.y_pos = event.x, event.y\n",
    "    \n",
    "    def predict(self, event=None):\n",
    "        messagebox.showinfo( \"Hello Python\", \"Not implemented yet\")\n",
    "    \n",
    "root = Tk()\n",
    "paintApp(root)\n",
    "root.mainloop()"
   ]
  },
  {
   "cell_type": "code",
   "execution_count": null,
   "id": "53cef096",
   "metadata": {},
   "outputs": [],
   "source": []
  }
 ],
 "metadata": {
  "kernelspec": {
   "display_name": "Python 3 (ipykernel)",
   "language": "python",
   "name": "python3"
  },
  "language_info": {
   "codemirror_mode": {
    "name": "ipython",
    "version": 3
   },
   "file_extension": ".py",
   "mimetype": "text/x-python",
   "name": "python",
   "nbconvert_exporter": "python",
   "pygments_lexer": "ipython3",
   "version": "3.9.7"
  }
 },
 "nbformat": 4,
 "nbformat_minor": 5
}
