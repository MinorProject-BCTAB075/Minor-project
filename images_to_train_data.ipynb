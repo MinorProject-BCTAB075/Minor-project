{
 "cells": [
  {
   "cell_type": "code",
   "execution_count": 2,
   "id": "11cd3f50",
   "metadata": {},
   "outputs": [],
   "source": [
    "import numpy as np\n",
    "import pandas as pd\n",
    "import os\n",
    "import cv2\n",
    "import matplotlib.pyplot as plt\n",
    "from os import listdir\n",
    "from os.path import isfile, join\n",
    "from PIL import Image"
   ]
  },
  {
   "cell_type": "code",
   "execution_count": 3,
   "id": "48207491",
   "metadata": {},
   "outputs": [],
   "source": [
    "%matplotlib inline"
   ]
  },
  {
   "cell_type": "code",
   "execution_count": 4,
   "id": "66c052f2",
   "metadata": {},
   "outputs": [],
   "source": [
    "def disp_contours(ctrs,width, height, index = None):\n",
    "#to display the contour\n",
    "    if index is None:\n",
    "        print(len(ctrs))\n",
    "        ind = -1\n",
    "    else:\n",
    "        ind = 1\n",
    "    for ctr_i in ctrs:\n",
    "        img2 = np.zeros((height,width,3), np.uint8)\n",
    "        cv2.drawContours(img2, ctrs, ind, (0,255,0), 1)   \n",
    "        plt.imshow(img2)\n",
    "        plt.show()"
   ]
  },
  {
   "cell_type": "code",
   "execution_count": 5,
   "id": "bcf12700",
   "metadata": {},
   "outputs": [],
   "source": [
    "def load_images(folder):\n",
    "    train_data=[]\n",
    "    for filename in os.listdir(folder):\n",
    "        img=cv2.imread(os.path.join(folder,filename),cv2.IMREAD_GRAYSCALE)\n",
    "        height, width = img.shape\n",
    "        #image.copyTo(img2)\n",
    "        img=~img\n",
    "        if img is not None:\n",
    "            _,thresh=cv2.threshold(img,127,255,cv2.THRESH_BINARY)\n",
    "            ctrs,ret=cv2.findContours(thresh,cv2.RETR_EXTERNAL,cv2.CHAIN_APPROX_NONE)          \n",
    "            cnt=sorted(ctrs,key=lambda ctr:cv2.boundingRect(ctr)[0])\n",
    "            #input()\n",
    "            #disp_contours(cnt,width, height)\n",
    "            w=int(28)\n",
    "            h=int(28)\n",
    "            maxi=0\n",
    "            for c in cnt:\n",
    "                x,y,w,h=cv2.boundingRect(c)\n",
    "                maxi=max(w*h,maxi)\n",
    "                if(maxi==w*h):\n",
    "                    x_max=x\n",
    "                    y_max=y\n",
    "                    h_max=h\n",
    "                    w_max=w\n",
    "            im_crop=thresh[y_max:y_max+h_max+10,x_max:x_max+w_max+10]\n",
    "            im_resize=cv2.resize(im_crop,(28,28))\n",
    "            im_resize=np.reshape(im_resize,(784,1))\n",
    "            train_data.append(im_resize)\n",
    "    return train_data"
   ]
  },
  {
   "cell_type": "code",
   "execution_count": 6,
   "id": "7e10c901",
   "metadata": {},
   "outputs": [],
   "source": [
    "#to see the contour on a single data\n",
    "#data = load_images(\"D:/programs/YMinorProject/sese/handwritten-equation-recognizer/extracted_images/testing_bro\")"
   ]
  },
  {
   "cell_type": "code",
   "execution_count": 67,
   "id": "d03e8e69",
   "metadata": {},
   "outputs": [],
   "source": [
    "img_folder_path = \"D:/programs/YMinorProject/sese/handwritten-equation-recognizer/training_images\""
   ]
  },
  {
   "cell_type": "code",
   "execution_count": 59,
   "id": "38b23095",
   "metadata": {},
   "outputs": [],
   "source": [
    "labels_symbols = {\n",
    "    10:'-', 11:'+', 12:'*', 13:'=', 14:'a', 15:'b', 16:'<', 17:'>', 18:'/',19:'√', 20:'(',21:')'\n",
    "}\n",
    "for i in range(0,10):\n",
    "    labels_symbols[i] = chr(48+i)\n",
    "symbols_folder = {'*':'times','/':'','<':'','>':'','√':'','(':'',')':''}"
   ]
  },
  {
   "cell_type": "code",
   "execution_count": 66,
   "id": "75fa74c9",
   "metadata": {},
   "outputs": [
    {
     "name": "stdout",
     "output_type": "stream",
     "text": [
      "10 : - -> Loading ...\n",
      "506\n",
      "11 : + -> Loading ...\n",
      "1012\n",
      "12 : * -> Loading ...\n",
      "1518\n",
      "13 : = -> Loading ...\n",
      "2024\n",
      "14 : a -> Loading ...\n",
      "2564\n",
      "15 : b -> Loading ...\n",
      "3101\n",
      "16 : <\n",
      "\n",
      "17 : >\n",
      "\n",
      "18 : /\n",
      "\n",
      "19 : √\n",
      "\n",
      "20 : (\n",
      "\n",
      "21 : )\n",
      "\n",
      "0 : 0 -> Loading ...\n",
      "3607\n",
      "1 : 1 -> Loading ...\n",
      "4377\n",
      "2 : 2 -> Loading ...\n",
      "4993\n",
      "3 : 3 -> Loading ...\n",
      "5609\n",
      "4 : 4 -> Loading ...\n",
      "6291\n",
      "5 : 5 -> Loading ...\n",
      "6962\n",
      "6 : 6 -> Loading ...\n",
      "7765\n",
      "7 : 7 -> Loading ...\n",
      "8480\n",
      "8 : 8 -> Loading ...\n",
      "9250\n",
      "9 : 9 -> Loading ...\n",
      "10042\n"
     ]
    }
   ],
   "source": [
    "data=np.array([])\n",
    "for k in labels_symbols:\n",
    "    print(f\"{k} : {labels_symbols[k]}\",end=\"\")\n",
    "    folder_name = labels_symbols[k] if labels_symbols[k] not in symbols_folder \\\n",
    "                    else symbols_folder[labels_symbols[k]]\n",
    "    if not folder_name: \n",
    "        print(\"\\n\")\n",
    "        continue\n",
    "    print(\" -> Loading ...\") \n",
    "    data_symb=load_images(img_folder_path+'/'+folder_name)\n",
    "    for i in range(0,len(data_symb)):\n",
    "        data_symb[i]=np.append(data_symb[i],[[k]],axis = 0)\n",
    "    if data.any():\n",
    "        data = np.concatenate((data,data_symb))\n",
    "    else:\n",
    "        data = np.array(data_symb)\n",
    "    print(len(data))\n",
    "\n"
   ]
  },
  {
   "cell_type": "code",
   "execution_count": 62,
   "id": "4e0b4094",
   "metadata": {},
   "outputs": [],
   "source": [
    "df=pd.DataFrame(data.squeeze(),index=None)\n",
    "df.to_csv('newtrain.csv',index=False)"
   ]
  },
  {
   "cell_type": "code",
   "execution_count": null,
   "id": "46d14dfc",
   "metadata": {},
   "outputs": [],
   "source": []
  },
  {
   "cell_type": "code",
   "execution_count": null,
   "id": "7cfe0923",
   "metadata": {},
   "outputs": [],
   "source": []
  },
  {
   "cell_type": "code",
   "execution_count": null,
   "id": "d26dccf5",
   "metadata": {},
   "outputs": [],
   "source": []
  },
  {
   "cell_type": "code",
   "execution_count": 46,
   "id": "c2d08660",
   "metadata": {},
   "outputs": [
    {
     "name": "stdout",
     "output_type": "stream",
     "text": [
      "15073\n"
     ]
    }
   ],
   "source": [
    "data16=load_images('new/lt')\n",
    "for i in range(0,len(data16)):\n",
    "    data16[i]=np.append(data16[i],['16'])\n",
    "data=np.concatenate((data,data16))\n",
    "print(len(data))"
   ]
  },
  {
   "cell_type": "code",
   "execution_count": 47,
   "id": "1f23c22b",
   "metadata": {},
   "outputs": [
    {
     "name": "stdout",
     "output_type": "stream",
     "text": [
      "15331\n"
     ]
    }
   ],
   "source": [
    "data17=load_images('new/gt')\n",
    "for i in range(0,len(data17)):\n",
    "    data17[i]=np.append(data17[i],['17'])\n",
    "data=np.concatenate((data,data17))\n",
    "print(len(data))"
   ]
  },
  {
   "cell_type": "code",
   "execution_count": 48,
   "id": "a1789767",
   "metadata": {},
   "outputs": [
    {
     "name": "stdout",
     "output_type": "stream",
     "text": [
      "15512\n"
     ]
    }
   ],
   "source": [
    "data18=load_images('new/div')\n",
    "for i in range(0,len(data18)):\n",
    "    data18[i]=np.append(data18[i],['18'])\n",
    "data=np.concatenate((data,data18))\n",
    "print(len(data))"
   ]
  },
  {
   "cell_type": "code",
   "execution_count": 49,
   "id": "735721d0",
   "metadata": {},
   "outputs": [
    {
     "name": "stdout",
     "output_type": "stream",
     "text": [
      "16513\n"
     ]
    }
   ],
   "source": [
    "data19=load_images('new/sqrt')\n",
    "for i in range(0,len(data19)):\n",
    "    data19[i]=np.append(data19[i],['19'])\n",
    "data=np.concatenate((data,data19))\n",
    "print(len(data))"
   ]
  },
  {
   "cell_type": "code",
   "execution_count": null,
   "id": "05025c90",
   "metadata": {},
   "outputs": [],
   "source": []
  }
 ],
 "metadata": {
  "kernelspec": {
   "display_name": "Python 3 (ipykernel)",
   "language": "python",
   "name": "python3"
  },
  "language_info": {
   "codemirror_mode": {
    "name": "ipython",
    "version": 3
   },
   "file_extension": ".py",
   "mimetype": "text/x-python",
   "name": "python",
   "nbconvert_exporter": "python",
   "pygments_lexer": "ipython3",
   "version": "3.9.7"
  }
 },
 "nbformat": 4,
 "nbformat_minor": 5
}
