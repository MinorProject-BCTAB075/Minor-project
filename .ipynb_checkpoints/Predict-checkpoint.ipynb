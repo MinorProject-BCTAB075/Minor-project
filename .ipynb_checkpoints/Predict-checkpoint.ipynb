{
 "cells": [
  {
   "cell_type": "code",
   "execution_count": 2,
   "id": "213602d1",
   "metadata": {},
   "outputs": [],
   "source": [
    "import matplotlib.pyplot as plt\n",
    "%matplotlib inline"
   ]
  },
  {
   "cell_type": "code",
   "execution_count": 3,
   "id": "76b6b913",
   "metadata": {},
   "outputs": [],
   "source": [
    "import keras\n",
    "modelI=keras.models.load_model('modelnew.keras')"
   ]
  },
  {
   "cell_type": "code",
   "execution_count": 4,
   "id": "e81b4fe9",
   "metadata": {},
   "outputs": [],
   "source": [
    "import cv2\n",
    "\n",
    "def get_parts_from_image(path, display_img = False ):\n",
    "    img=cv2.imread(path,cv2.IMREAD_GRAYSCALE)\n",
    "    print(path)\n",
    "    if display_img:\n",
    "        plt.axis('off')\n",
    "        plt.imshow(img)\n",
    "        plt.show()\n",
    "\n",
    "    cv2.waitKey(0)\n",
    "    cv2.destroyAllWindows()\n",
    "\n",
    "    train_data=[]\n",
    "    if img is not None:\n",
    "        img=~img\n",
    "        ret,thresh=cv2.threshold(img,127,255,cv2.THRESH_BINARY)\n",
    "        ctrs,ret=cv2.findContours(thresh,cv2.RETR_TREE,cv2.CHAIN_APPROX_SIMPLE)\n",
    "        cnt=sorted(ctrs,key=lambda ctr:cv2.boundingRect(ctr)[0])\n",
    "        w=int(28)\n",
    "        h=int(28)\n",
    "        rects=[]\n",
    "        for c in cnt:\n",
    "            x,y,w,h=cv2.boundingRect(c)\n",
    "            rect=[x,y,w,h]\n",
    "            rects.append(rect)\n",
    "    #     print(\"rects\", rects)\n",
    "        bool_rect=[]\n",
    "        for r in rects:\n",
    "            l=[]\n",
    "            for rec in rects:\n",
    "                flag=0\n",
    "                if rec!=r:\n",
    "                    if r[0]<(rec[0]+rec[2]+10) and rec[0]<(r[0]+r[2]+10) and r[1]<(rec[1]+rec[3]+10) and rec[1]<(r[1]+r[3]+10):\n",
    "                        flag=1\n",
    "                    l.append(flag)\n",
    "                if rec==r:\n",
    "                    l.append(0)\n",
    "            bool_rect.append(l)\n",
    "    #     print(\"bools\",bool_rect)\n",
    "        dump_rect=[]\n",
    "        for i in range(0,len(cnt)):\n",
    "            for j in range(0,len(cnt)):\n",
    "                if bool_rect[i][j]==1:\n",
    "                    area1=rects[i][2]*rects[i][3]\n",
    "                    area2=rects[j][2]*rects[j][3]\n",
    "                    if(area1==min(area1,area2)):\n",
    "                        dump_rect.append(rects[i])\n",
    "    #     print(\"dump_rects\",dump_rect)\n",
    "        final_rect=[i for i in rects if i not in dump_rect]\n",
    "    #     print(\"Final_rects\",final_rect)\n",
    "        for r in final_rect:\n",
    "            x=r[0]\n",
    "            y=r[1]\n",
    "            w=r[2]\n",
    "            h=r[3]\n",
    "            im_crop=thresh[y:y+h+10,x:x+w+10]\n",
    "            im_resize=cv2.resize(im_crop,(28,28))\n",
    "    #         cv2.imshow(\"work\",im_resize)\n",
    "            train_data.append(im_resize)\n",
    "        \n",
    "        return train_data\n",
    "    "
   ]
  },
  {
   "cell_type": "code",
   "execution_count": 8,
   "id": "7160c696",
   "metadata": {},
   "outputs": [],
   "source": [
    "import numpy as np\n",
    "labels_symbols = {\n",
    "    10:'-', 11:'+', 12:'*', 13:'=', 14:'a', 15:'b', 16:'<', 17:'>', 18:'/',19:'√', 20:'(',21:')'\n",
    "}\n",
    "for i in range(0,10):\n",
    "    labels_symbols[i] = chr(48+i)\n",
    "    \n",
    "def recognise_parts(train_data):\n",
    "    s=\"\"\n",
    "    for i in range(len(train_data)):\n",
    "        train_data[i]=np.array(train_data[i])\n",
    "        train_data[i]=train_data[i].reshape(1,28,28,1)\n",
    "    #     result=modelI.predictclasses(train_data[i])\n",
    "        result=np.argmax(modelI.predict(train_data[i]), axis=1)\n",
    "        s+= labels_symbols[result[0]]\n",
    "    return s"
   ]
  },
  {
   "cell_type": "code",
   "execution_count": 10,
   "id": "0c84893e",
   "metadata": {},
   "outputs": [],
   "source": [
    "\n",
    "a=\"NewTest/untitled.jpg\"\n",
    "b=\"NewTest/untitled1.jpg\"\n",
    "c=\"NewTest/untitled2.jpg\"\n",
    "d=\"NewTest/untitled3.jpg\"\n",
    "e=\"NewTest/untitled4.jpg\"\n",
    "f=\"NewTest/untitled5.jpg\"\n",
    "g=\"NewTest/untitled6.jpg\"\n",
    "h=\"NewTest/untitled7.jpg\"\n",
    "i=\"Test/expression_new.jpg\""
   ]
  },
  {
   "cell_type": "code",
   "execution_count": 11,
   "id": "ac09c2d7",
   "metadata": {},
   "outputs": [
    {
     "name": "stdout",
     "output_type": "stream",
     "text": [
      "Test/expression_new.jpg\n"
     ]
    },
    {
     "data": {
      "image/png": "[encoded data removed]",
      "text/plain": [
       "<Figure size 432x288 with 1 Axes>"
      ]
     },
     "metadata": {
      "needs_background": "light"
     },
     "output_type": "display_data"
    },
    {
     "name": "stdout",
     "output_type": "stream",
     "text": [
      "number of parts = 7\n"
     ]
    },
    {
     "data": {
      "image/png": "[encoded data removed]",
      "text/plain": [
       "<Figure size 1440x144 with 10 Axes>"
      ]
     },
     "metadata": {
      "needs_background": "light"
     },
     "output_type": "display_data"
    },
    {
     "name": "stdout",
     "output_type": "stream",
     "text": [
      "Detected Expression : 7*<5-22\n"
     ]
    }
   ],
   "source": [
    "train_data = get_parts_from_image(i, display_img = True)\n",
    "print(f\"number of parts = {len(train_data)}\")\n",
    "plt.rcParams[\"figure.figsize\"] = (20,2)\n",
    "n_per_line = 10\n",
    "for i,part in enumerate(train_data):\n",
    "    if i%n_per_line == 0 :\n",
    "        fig, ax = plt.subplots(ncols = n_per_line)\n",
    "        for x in ax: x.axis('off')\n",
    "    ax[i%n_per_line].imshow(part, cmap='gray')\n",
    "    #ax.plot()\n",
    "plt.rcParams[\"figure.figsize\"] = plt.rcParamsDefault[\"figure.figsize\"] \n",
    "plt.show()\n",
    "\n",
    "detected_exp = recognise_parts(train_data)\n",
    "\n",
    "print(f\"Detected Expression : {detected_exp}\")\n"
   ]
  },
  {
   "cell_type": "code",
   "execution_count": null,
   "id": "d1eb6158",
   "metadata": {},
   "outputs": [],
   "source": []
  }
 ],
 "metadata": {
  "kernelspec": {
   "display_name": "Python 3 (ipykernel)",
   "language": "python",
   "name": "python3"
  },
  "language_info": {
   "codemirror_mode": {
    "name": "ipython",
    "version": 3
   },
   "file_extension": ".py",
   "mimetype": "text/x-python",
   "name": "python",
   "nbconvert_exporter": "python",
   "pygments_lexer": "ipython3",
   "version": "3.9.7"
  }
 },
 "nbformat": 4,
 "nbformat_minor": 5
}
